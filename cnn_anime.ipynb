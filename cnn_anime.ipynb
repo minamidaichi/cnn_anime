{
 "cells": [
  {
   "cell_type": "code",
   "execution_count": 5,
   "metadata": {
    "collapsed": true
   },
   "outputs": [],
   "source": [
    "import os\n",
    "import numpy as np\n",
    "import cv2\n",
    "\n",
    "NUM_CLASSES = 5 # 分類するクラス数\n",
    "IMG_SIZE_w = 32 # 画像の1辺の長さ\n",
    "IMG_SIZE_h = 32 # 画像の1辺の長さ\n",
    "\n",
    "\n",
    "# 画像のあるディレクトリ\n",
    "train_img_dirs = ['boyish', 'cool', 'ojosama', 'sister', 'tsundere']\n",
    "\n",
    "# 学習画像データ\n",
    "train_image = []\n",
    "# 学習データのラベル\n",
    "train_label = []\n",
    "\n",
    "test_image = []\n",
    "test_label = []\n",
    "\n",
    "color = (255, 255, 255)"
   ]
  },
  {
   "cell_type": "code",
   "execution_count": 6,
   "metadata": {
    "collapsed": true
   },
   "outputs": [],
   "source": [
    "# ルックアップテーブルの生成\n",
    "min_table = 50\n",
    "max_table = 205\n",
    "diff_table = max_table - min_table\n",
    "\n",
    "LUT_HC = np.arange(256, dtype = 'uint8' )\n",
    "LUT_LC = np.arange(256, dtype = 'uint8' )\n",
    "\n",
    "# ハイコントラストLUT作成\n",
    "for i in range(0, min_table):\n",
    "    LUT_HC[i] = 0\n",
    "for i in range(min_table, max_table):\n",
    "    LUT_HC[i] = 255 * (i - min_table) / diff_table\n",
    "for i in range(max_table, 255):\n",
    "    LUT_HC[i] = 255\n",
    "\n",
    "# ローコントラストLUT作成\n",
    "for i in range(256):\n",
    "    LUT_LC[i] = min_table + i * (diff_table) / 255\n",
    "    "
   ]
  },
  {
   "cell_type": "code",
   "execution_count": 7,
   "metadata": {
    "collapsed": true
   },
   "outputs": [],
   "source": [
    "from matplotlib import pylab as plt"
   ]
  },
  {
   "cell_type": "code",
   "execution_count": 8,
   "metadata": {
    "collapsed": false,
    "scrolled": true
   },
   "outputs": [
    {
     "ename": "error",
     "evalue": "/Users/travis/build/skvark/opencv-python/opencv/modules/core/src/matrix.cpp:468: error: (-215) m.dims >= 2 in function Mat\n",
     "output_type": "error",
     "traceback": [
      "\u001b[0;31m---------------------------------------------------------------------------\u001b[0m",
      "\u001b[0;31merror\u001b[0m                                     Traceback (most recent call last)",
      "\u001b[0;32m<ipython-input-8-6a18071c517b>\u001b[0m in \u001b[0;36m<module>\u001b[0;34m()\u001b[0m\n\u001b[1;32m     13\u001b[0m             \u001b[0;32mprint\u001b[0m \u001b[0;34m\"--------------\"\u001b[0m\u001b[0;34m\u001b[0m\u001b[0m\n\u001b[1;32m     14\u001b[0m         \u001b[0;31m# 変換\u001b[0m\u001b[0;34m\u001b[0m\u001b[0;34m\u001b[0m\u001b[0m\n\u001b[0;32m---> 15\u001b[0;31m         \u001b[0mhigh_cont_img\u001b[0m \u001b[0;34m=\u001b[0m \u001b[0mcv2\u001b[0m\u001b[0;34m.\u001b[0m\u001b[0mLUT\u001b[0m\u001b[0;34m(\u001b[0m\u001b[0mimg\u001b[0m\u001b[0;34m,\u001b[0m \u001b[0mLUT_HC\u001b[0m\u001b[0;34m)\u001b[0m\u001b[0;34m\u001b[0m\u001b[0m\n\u001b[0m\u001b[1;32m     16\u001b[0m         \u001b[0mlow_cont_img\u001b[0m \u001b[0;34m=\u001b[0m \u001b[0mcv2\u001b[0m\u001b[0;34m.\u001b[0m\u001b[0mLUT\u001b[0m\u001b[0;34m(\u001b[0m\u001b[0mimg\u001b[0m\u001b[0;34m,\u001b[0m \u001b[0mLUT_LC\u001b[0m\u001b[0;34m)\u001b[0m\u001b[0;34m\u001b[0m\u001b[0m\n\u001b[1;32m     17\u001b[0m         \u001b[0;31m#print img\u001b[0m\u001b[0;34m\u001b[0m\u001b[0;34m\u001b[0m\u001b[0m\n",
      "\u001b[0;31merror\u001b[0m: /Users/travis/build/skvark/opencv-python/opencv/modules/core/src/matrix.cpp:468: error: (-215) m.dims >= 2 in function Mat\n"
     ]
    }
   ],
   "source": [
    "count = 0\n",
    "for i, d in enumerate(train_img_dirs):\n",
    "    # ./data/以下の各ディレクトリ内のファイル名取得\n",
    "    files = os.listdir('./data/' + d)\n",
    "    for f in files:\n",
    "        count += 1\n",
    "        # 画像読み込み\n",
    "        img = cv2.imread('./data/' + d + '/' + f)\n",
    "        if count % 5 == 0:\n",
    "            print count - 1\n",
    "            plt.imshow(img)\n",
    "            plt.show()\n",
    "            print \"--------------\"\n",
    "        # 変換\n",
    "        high_cont_img = cv2.LUT(img, LUT_HC)\n",
    "        low_cont_img = cv2.LUT(img, LUT_LC)\n",
    "        #print img\n",
    "        if img != None:\n",
    "            # 1辺がIMG_SIZEの正方形にリサイズ\n",
    "            img = cv2.resize(img, (IMG_SIZE_w, IMG_SIZE_h))\n",
    "            hflip_img = cv2.flip(img, 1)\n",
    "            # 1列にして\n",
    "            img = img.flatten().astype(np.float32)/255.0\n",
    "            if count % 5 != 0:\n",
    "                train_image.append(img)\n",
    "            else:\n",
    "                test_image.append(img)\n",
    "                   \n",
    "            # one_hot_vectorを作りラベルとして追加\n",
    "            tmp = np.zeros(NUM_CLASSES)\n",
    "            tmp[i] = 1\n",
    "            if count % 5 != 0:\n",
    "                train_label.append(tmp)\n",
    "            else: test_label.append(tmp)\n",
    "            \n",
    "            # 1列にして\n",
    "            img = hflip_img.flatten().astype(np.float32)/255.0\n",
    "            if count % 5 != 0:\n",
    "                train_image.append(img)\n",
    "            else: test_image.append(img)\n",
    "            # one_hot_vectorを作りラベルとして追加\n",
    "            if count % 5 != 0:\n",
    "                train_label.append(tmp)\n",
    "            else: test_label.append(tmp)\n",
    "            \n",
    "            \n",
    "            \n",
    "        if high_cont_img != None:\n",
    "            # 1辺がIMG_SIZEの正方形にリサイズ\n",
    "            img = cv2.resize(high_cont_img, (IMG_SIZE_w, IMG_SIZE_h))\n",
    "            hflip_img = cv2.flip(img, 1)\n",
    "            # 1列にして\n",
    "            img = img.flatten().astype(np.float32)/255.0\n",
    "            if count % 5 != 0:\n",
    "                train_image.append(img)\n",
    "            else: test_image.append(img)\n",
    "            if count % 5 != 0:\n",
    "                train_label.append(tmp)\n",
    "            else: test_label.append(tmp)\n",
    "            \n",
    "            # 1列にして\n",
    "            img = hflip_img.flatten().astype(np.float32)/255.0\n",
    "            if count % 5 != 0:\n",
    "                train_image.append(img)\n",
    "            else: test_image.append(img)\n",
    "            # one_hot_vectorを作りラベルとして追加\n",
    "            if count % 5 != 0:\n",
    "                train_label.append(tmp)\n",
    "            else: test_label.append(tmp)\n",
    "            \n",
    "            \n",
    "        if low_cont_img != None:\n",
    "            # 1辺がIMG_SIZEの正方形にリサイズ\n",
    "            img = cv2.resize(low_cont_img, (IMG_SIZE_w, IMG_SIZE_h))\n",
    "            hflip_img = cv2.flip(img, 1)\n",
    "            # 1列にして\n",
    "            img = img.flatten().astype(np.float32)/255.0\n",
    "            if count % 5 != 0:\n",
    "                train_image.append(img)\n",
    "            else: test_image.append(img)\n",
    "            # one_hot_vectorを作りラベルとして追加\n",
    "            tmp = np.zeros(NUM_CLASSES)\n",
    "            tmp[i] = 1\n",
    "            if count % 5 != 0:\n",
    "                train_label.append(tmp)\n",
    "            else: test_label.append(tmp)\n",
    "            \n",
    "            # 1列にして\n",
    "            img = hflip_img.flatten().astype(np.float32)/255.0\n",
    "            if count % 5 != 0:\n",
    "                train_image.append(img)\n",
    "            else: test_image.append(img)\n",
    "            # one_hot_vectorを作りラベルとして追加\n",
    "            if count % 5 != 0:\n",
    "                train_label.append(tmp)\n",
    "            else: test_label.append(tmp)\n",
    "            \n",
    "        \n",
    "\n",
    "\n",
    "            \n",
    "# numpy配列に変換\n",
    "train_image = np.asarray(train_image)\n",
    "train_label = np.asarray(train_label)\n",
    "test_image = np.asarray(test_image)\n",
    "test_label = np.asarray(test_label)"
   ]
  },
  {
   "cell_type": "code",
   "execution_count": 5,
   "metadata": {
    "collapsed": false,
    "scrolled": true
   },
   "outputs": [
    {
     "name": "stdout",
     "output_type": "stream",
     "text": [
      "732\n"
     ]
    }
   ],
   "source": [
    "print len(train_image)"
   ]
  },
  {
   "cell_type": "code",
   "execution_count": 6,
   "metadata": {
    "collapsed": false
   },
   "outputs": [
    {
     "name": "stdout",
     "output_type": "stream",
     "text": [
      "732\n"
     ]
    }
   ],
   "source": [
    "print len(train_label)"
   ]
  },
  {
   "cell_type": "code",
   "execution_count": 7,
   "metadata": {
    "collapsed": false
   },
   "outputs": [
    {
     "name": "stdout",
     "output_type": "stream",
     "text": [
      "186\n"
     ]
    }
   ],
   "source": [
    "print len(test_image)"
   ]
  },
  {
   "cell_type": "code",
   "execution_count": 8,
   "metadata": {
    "collapsed": false
   },
   "outputs": [
    {
     "name": "stdout",
     "output_type": "stream",
     "text": [
      "186\n"
     ]
    }
   ],
   "source": [
    "print len(test_label)"
   ]
  },
  {
   "cell_type": "code",
   "execution_count": 14,
   "metadata": {
    "collapsed": true
   },
   "outputs": [],
   "source": [
    "COLOR_CHANNELS = 3 # RGB\n",
    "IMG_PIXELS = IMG_SIZE_w * IMG_SIZE_h * COLOR_CHANNELS # 画像のサイズ*RGB\n",
    "\n",
    "import tensorflow as tf\n",
    "sess = tf.InteractiveSession()\n"
   ]
  },
  {
   "cell_type": "code",
   "execution_count": 15,
   "metadata": {
    "collapsed": false
   },
   "outputs": [
    {
     "name": "stdout",
     "output_type": "stream",
     "text": [
      "WARNING:tensorflow:From <ipython-input-15-f00956fff144>:8: initialize_all_variables (from tensorflow.python.ops.variables) is deprecated and will be removed after 2017-03-02.\n",
      "Instructions for updating:\n",
      "Use `tf.global_variables_initializer` instead.\n"
     ]
    }
   ],
   "source": [
    "\n",
    "x = tf.placeholder(tf.float32, shape=[None, IMG_PIXELS])\n",
    "y_ = tf.placeholder(tf.float32, shape=[None, NUM_CLASSES])\n",
    "\n",
    "W = tf.Variable(tf.zeros([IMG_PIXELS,NUM_CLASSES]))\n",
    "b = tf.Variable(tf.zeros([NUM_CLASSES]))\n",
    "\n",
    "sess.run(tf.initialize_all_variables())\n",
    "\n",
    "y = tf.nn.softmax(tf.matmul(x,W) + b)\n",
    "\n",
    "cross_entropy = -tf.reduce_sum(y_*tf.log(y))\n",
    "\n",
    "train_step = tf.train.GradientDescentOptimizer(0.01).minimize(cross_entropy)\n",
    "\n"
   ]
  },
  {
   "cell_type": "code",
   "execution_count": 16,
   "metadata": {
    "collapsed": true
   },
   "outputs": [],
   "source": [
    "def weight_variable(shape):\n",
    "  initial = tf.truncated_normal(shape, stddev=0.1)\n",
    "  return tf.Variable(initial)\n",
    "\n",
    "def bias_variable(shape):\n",
    "  initial = tf.constant(0.1, shape=shape)\n",
    "  return tf.Variable(initial)\n",
    "\n",
    "def conv2d(x, W):\n",
    "  return tf.nn.conv2d(x, W, strides=[1, 1, 1, 1], padding='SAME')\n",
    "\n",
    "def max_pool_2x2(x):\n",
    "  return tf.nn.max_pool(x, ksize=[1, 2, 2, 1],\n",
    "                        strides=[1, 2, 2, 1], padding='SAME')\n"
   ]
  },
  {
   "cell_type": "code",
   "execution_count": 17,
   "metadata": {
    "collapsed": false,
    "scrolled": true
   },
   "outputs": [
    {
     "name": "stdout",
     "output_type": "stream",
     "text": [
      "WARNING:tensorflow:From <ipython-input-17-6c78fb5e0050>:34: initialize_all_variables (from tensorflow.python.ops.variables) is deprecated and will be removed after 2017-03-02.\n",
      "Instructions for updating:\n",
      "Use `tf.global_variables_initializer` instead.\n"
     ]
    }
   ],
   "source": [
    "W_conv1 = weight_variable([5, 5, COLOR_CHANNELS, 32])\n",
    "b_conv1 = bias_variable([32])\n",
    "\n",
    "x_image = tf.reshape(x, [-1, IMG_SIZE_w, IMG_SIZE_h, COLOR_CHANNELS])\n",
    "\n",
    "h_conv1 = tf.nn.relu(conv2d(x_image, W_conv1) + b_conv1)\n",
    "h_pool1 = max_pool_2x2(h_conv1)\n",
    "\n",
    "W_conv2 = weight_variable([5, 5, 32, 64])\n",
    "b_conv2 = bias_variable([64])\n",
    "\n",
    "h_conv2 = tf.nn.relu(conv2d(h_pool1, W_conv2) + b_conv2)\n",
    "h_pool2 = max_pool_2x2(h_conv2)\n",
    "\n",
    "W_fc1 = weight_variable([8 * 8 * 64, 1024])\n",
    "b_fc1 = bias_variable([1024])\n",
    "\n",
    "h_pool2_flat = tf.reshape(h_pool2, [-1, 8*8*64])\n",
    "h_fc1 = tf.nn.relu(tf.matmul(h_pool2_flat, W_fc1) + b_fc1)\n",
    "\n",
    "keep_prob = tf.placeholder(tf.float32)\n",
    "h_fc1_drop = tf.nn.dropout(h_fc1, keep_prob)\n",
    "\n",
    "W_fc2 = weight_variable([1024, NUM_CLASSES])\n",
    "b_fc2 = bias_variable([NUM_CLASSES])\n",
    "\n",
    "y_conv=tf.nn.softmax(tf.matmul(h_fc1_drop, W_fc2) + b_fc2)\n",
    "\n",
    "\n",
    "cross_entropy = -tf.reduce_sum(y_*tf.log(y_conv))\n",
    "train_step = tf.train.AdamOptimizer(1e-4).minimize(cross_entropy)\n",
    "correct_prediction = tf.equal(tf.argmax(y_conv,1), tf.argmax(y_,1))\n",
    "accuracy = tf.reduce_mean(tf.cast(correct_prediction, tf.float32))\n",
    "sess.run(tf.initialize_all_variables())"
   ]
  },
  {
   "cell_type": "code",
   "execution_count": 18,
   "metadata": {
    "collapsed": false,
    "scrolled": true
   },
   "outputs": [
    {
     "name": "stdout",
     "output_type": "stream",
     "text": [
      "0\n",
      "step 0, training accuracy 0.370219\n",
      "test accuracy 0.344086\n",
      "1\n",
      "step 1, training accuracy 0.506831\n",
      "test accuracy 0.446237\n",
      "2\n",
      "step 2, training accuracy 0.625683\n",
      "test accuracy 0.44086\n",
      "3\n",
      "step 3, training accuracy 0.670765\n",
      "test accuracy 0.489247\n",
      "4\n",
      "step 4, training accuracy 0.722678\n",
      "test accuracy 0.505376\n",
      "5\n",
      "step 5, training accuracy 0.795082\n",
      "test accuracy 0.505376\n",
      "6\n",
      "step 6, training accuracy 0.831967\n",
      "test accuracy 0.526882\n",
      "7\n",
      "step 7, training accuracy 0.877049\n",
      "test accuracy 0.526882\n",
      "8\n",
      "step 8, training accuracy 0.893443\n",
      "test accuracy 0.521505\n",
      "9\n",
      "step 9, training accuracy 0.894809\n",
      "test accuracy 0.543011\n",
      "10\n",
      "step 10, training accuracy 0.939891\n",
      "test accuracy 0.543011\n",
      "11\n",
      "step 11, training accuracy 0.931694\n",
      "test accuracy 0.55914\n",
      "12\n",
      "step 12, training accuracy 0.969945\n",
      "test accuracy 0.55914\n",
      "13\n",
      "step 13, training accuracy 0.964481\n",
      "test accuracy 0.543011\n",
      "14\n",
      "step 14, training accuracy 0.98224\n",
      "test accuracy 0.564516\n",
      "15\n",
      "step 15, training accuracy 0.979508\n",
      "test accuracy 0.532258\n",
      "16\n",
      "step 16, training accuracy 0.989071\n",
      "test accuracy 0.55914\n",
      "17\n",
      "step 17, training accuracy 0.986339\n",
      "test accuracy 0.564516\n",
      "18\n",
      "step 18, training accuracy 0.987705\n",
      "test accuracy 0.564516\n",
      "19\n",
      "step 19, training accuracy 0.993169\n",
      "test accuracy 0.564516\n",
      "20\n",
      "step 20, training accuracy 0.991803\n",
      "test accuracy 0.580645\n",
      "21\n",
      "step 21, training accuracy 0.994536\n",
      "test accuracy 0.564516\n",
      "22\n",
      "step 22, training accuracy 0.998634\n",
      "test accuracy 0.580645\n",
      "23\n",
      "step 23, training accuracy 0.998634\n",
      "test accuracy 0.586021\n",
      "24\n",
      "step 24, training accuracy 1\n",
      "test accuracy 0.596774\n",
      "25\n",
      "step 25, training accuracy 0.997268\n",
      "test accuracy 0.564516\n",
      "26\n",
      "step 26, training accuracy 0.998634\n",
      "test accuracy 0.580645\n",
      "27\n",
      "step 27, training accuracy 0.997268\n",
      "test accuracy 0.580645\n",
      "28\n",
      "step 28, training accuracy 0.997268\n",
      "test accuracy 0.569892\n",
      "29\n",
      "step 29, training accuracy 0.997268\n",
      "test accuracy 0.575269\n",
      "30\n",
      "step 30, training accuracy 1\n",
      "test accuracy 0.569892\n",
      "31\n",
      "step 31, training accuracy 0.997268\n",
      "test accuracy 0.548387\n",
      "32\n",
      "step 32, training accuracy 1\n",
      "test accuracy 0.586021\n",
      "33\n",
      "step 33, training accuracy 0.997268\n",
      "test accuracy 0.564516\n",
      "34\n",
      "step 34, training accuracy 1\n",
      "test accuracy 0.575269\n",
      "35\n",
      "step 35, training accuracy 1\n",
      "test accuracy 0.580645\n",
      "36\n",
      "step 36, training accuracy 1\n",
      "test accuracy 0.564516\n",
      "37\n",
      "step 37, training accuracy 1\n",
      "test accuracy 0.569892\n",
      "38\n",
      "step 38, training accuracy 1\n",
      "test accuracy 0.55914\n",
      "39\n",
      "step 39, training accuracy 1\n",
      "test accuracy 0.569892\n",
      "40\n",
      "step 40, training accuracy 1\n",
      "test accuracy 0.55914\n",
      "41\n",
      "step 41, training accuracy 1\n",
      "test accuracy 0.553763\n",
      "42\n",
      "step 42, training accuracy 1\n",
      "test accuracy 0.591398\n",
      "43\n",
      "step 43, training accuracy 1\n",
      "test accuracy 0.569892\n",
      "44\n",
      "step 44, training accuracy 1\n",
      "test accuracy 0.575269\n",
      "45\n",
      "step 45, training accuracy 1\n",
      "test accuracy 0.569892\n",
      "46\n",
      "step 46, training accuracy 1\n",
      "test accuracy 0.564516\n",
      "47\n",
      "step 47, training accuracy 1\n",
      "test accuracy 0.569892\n",
      "48\n",
      "step 48, training accuracy 1\n",
      "test accuracy 0.564516\n",
      "49\n",
      "step 49, training accuracy 1\n",
      "test accuracy 0.55914\n"
     ]
    }
   ],
   "source": [
    "import random\n",
    "\n",
    "STEPS = 50 # 学習ステップ数\n",
    "BATCH_SIZE = 50 # バッチサイズ\n",
    "\n",
    "for i in range(STEPS):\n",
    "  print i\n",
    "  random_seq = range(len(train_image))\n",
    "  random.shuffle(random_seq)\n",
    "  for j in range(len(train_image)/BATCH_SIZE):\n",
    "    batch = BATCH_SIZE * j\n",
    "    train_image_batch = []\n",
    "    train_label_batch = []\n",
    "    for k in range(BATCH_SIZE):\n",
    "      train_image_batch.append(train_image[random_seq[batch + k]])\n",
    "      train_label_batch.append(train_label[random_seq[batch + k]])\n",
    "    \n",
    "    train_image_batch = np.array(train_image_batch)\n",
    "    train_label_batch = np.array(train_label_batch)\n",
    "\n",
    "    train_step.run(feed_dict={x: train_image_batch, y_: train_label_batch, keep_prob: 0.5})\n",
    "    \n",
    "  \n",
    "\n",
    "  # 毎ステップ、学習データに対する正答率を表示\n",
    "  train_accuracy = accuracy.eval(feed_dict={\n",
    "      x:train_image, y_: train_label, keep_prob: 1.0})\n",
    "  print(\"step %d, training accuracy %g\"%(i, train_accuracy))\n",
    "  print(\"test accuracy %g\"%accuracy.eval(feed_dict={\n",
    "    x: test_image, y_: test_label, keep_prob: 1.0}))"
   ]
  },
  {
   "cell_type": "code",
   "execution_count": 9,
   "metadata": {
    "collapsed": false
   },
   "outputs": [
    {
     "ename": "IndexError",
     "evalue": "list index out of range",
     "output_type": "error",
     "traceback": [
      "\u001b[0;31m---------------------------------------------------------------------------\u001b[0m",
      "\u001b[0;31mIndexError\u001b[0m                                Traceback (most recent call last)",
      "\u001b[0;32m<ipython-input-9-4dd1a0005971>\u001b[0m in \u001b[0;36m<module>\u001b[0;34m()\u001b[0m\n\u001b[1;32m      1\u001b[0m \u001b[0mi\u001b[0m \u001b[0;34m=\u001b[0m \u001b[0;36m144\u001b[0m\u001b[0;34m\u001b[0m\u001b[0m\n\u001b[0;32m----> 2\u001b[0;31m \u001b[0;32mprint\u001b[0m \u001b[0mtest_label\u001b[0m\u001b[0;34m[\u001b[0m\u001b[0mi\u001b[0m\u001b[0;34m]\u001b[0m\u001b[0;34m\u001b[0m\u001b[0m\n\u001b[0m\u001b[1;32m      3\u001b[0m \u001b[0;32mprint\u001b[0m \u001b[0my_conv\u001b[0m\u001b[0;34m.\u001b[0m\u001b[0meval\u001b[0m\u001b[0;34m(\u001b[0m\u001b[0mfeed_dict\u001b[0m\u001b[0;34m=\u001b[0m\u001b[0;34m{\u001b[0m \u001b[0mx\u001b[0m\u001b[0;34m:\u001b[0m \u001b[0;34m[\u001b[0m\u001b[0mtest_image\u001b[0m\u001b[0;34m[\u001b[0m\u001b[0mi\u001b[0m\u001b[0;34m]\u001b[0m\u001b[0;34m]\u001b[0m\u001b[0;34m,\u001b[0m \u001b[0mkeep_prob\u001b[0m\u001b[0;34m:\u001b[0m \u001b[0;36m1.0\u001b[0m \u001b[0;34m}\u001b[0m\u001b[0;34m)\u001b[0m\u001b[0;34m[\u001b[0m\u001b[0;36m0\u001b[0m\u001b[0;34m]\u001b[0m\u001b[0;34m\u001b[0m\u001b[0m\n\u001b[1;32m      4\u001b[0m \u001b[0;32mprint\u001b[0m \u001b[0mnp\u001b[0m\u001b[0;34m.\u001b[0m\u001b[0margmax\u001b[0m\u001b[0;34m(\u001b[0m\u001b[0my_conv\u001b[0m\u001b[0;34m.\u001b[0m\u001b[0meval\u001b[0m\u001b[0;34m(\u001b[0m\u001b[0mfeed_dict\u001b[0m\u001b[0;34m=\u001b[0m\u001b[0;34m{\u001b[0m \u001b[0mx\u001b[0m\u001b[0;34m:\u001b[0m \u001b[0;34m[\u001b[0m\u001b[0mtest_image\u001b[0m\u001b[0;34m[\u001b[0m\u001b[0mi\u001b[0m\u001b[0;34m]\u001b[0m\u001b[0;34m]\u001b[0m\u001b[0;34m,\u001b[0m \u001b[0mkeep_prob\u001b[0m\u001b[0;34m:\u001b[0m \u001b[0;36m1.0\u001b[0m \u001b[0;34m}\u001b[0m\u001b[0;34m)\u001b[0m\u001b[0;34m[\u001b[0m\u001b[0;36m0\u001b[0m\u001b[0;34m]\u001b[0m\u001b[0;34m)\u001b[0m\u001b[0;34m\u001b[0m\u001b[0m\n",
      "\u001b[0;31mIndexError\u001b[0m: list index out of range"
     ]
    }
   ],
   "source": [
    "i = 144\n",
    "print test_label[i]\n",
    "print y_conv.eval(feed_dict={ x: [test_image[i]], keep_prob: 1.0 })[0]\n",
    "print np.argmax(y_conv.eval(feed_dict={ x: [test_image[i]], keep_prob: 1.0 })[0])"
   ]
  },
  {
   "cell_type": "code",
   "execution_count": 93,
   "metadata": {
    "collapsed": false
   },
   "outputs": [
    {
     "name": "stdout",
     "output_type": "stream",
     "text": [
      "boyish\n",
      "test accuracy 0.2\n",
      "cool\n",
      "test accuracy 0.261905\n",
      "ojosama\n",
      "test accuracy 0.952381\n",
      "sister\n",
      "test accuracy 0.6\n",
      "tsundere\n",
      "test accuracy 0.690476\n"
     ]
    }
   ],
   "source": [
    "print \"boyish\"\n",
    "print(\"test accuracy %g\"%accuracy.eval(feed_dict={x: test_image[0:30], y_: test_label[0:30], keep_prob: 1.0}))\n",
    "\n",
    "print \"cool\"\n",
    "print(\"test accuracy %g\"%accuracy.eval(feed_dict={x: test_image[30:72], y_: test_label[30:72], keep_prob: 1.0}))\n",
    "\n",
    "print \"ojosama\"\n",
    "print(\"test accuracy %g\"%accuracy.eval(feed_dict={x: test_image[72:114], y_: test_label[72:114], keep_prob: 1.0}))\n",
    "\n",
    "print \"sister\"\n",
    "print(\"test accuracy %g\"%accuracy.eval(feed_dict={x: test_image[114:144], y_: test_label[114:144], keep_prob: 1.0}))\n",
    "\n",
    "print \"tsundere\"\n",
    "print(\"test accuracy %g\"%accuracy.eval(feed_dict={x: test_image[144:], y_: test_label[144:], keep_prob: 1.0}))"
   ]
  },
  {
   "cell_type": "code",
   "execution_count": 26,
   "metadata": {
    "collapsed": true
   },
   "outputs": [],
   "source": [
    "weights = sess.run(W_conv1)"
   ]
  },
  {
   "cell_type": "code",
   "execution_count": 35,
   "metadata": {
    "collapsed": false
   },
   "outputs": [
    {
     "name": "stdout",
     "output_type": "stream",
     "text": [
      "5\n"
     ]
    }
   ],
   "source": [
    "print len(weights[1])"
   ]
  },
  {
   "cell_type": "code",
   "execution_count": 18,
   "metadata": {
    "collapsed": true
   },
   "outputs": [],
   "source": [
    "from matplotlib import pylab as plt\n",
    "import matplotlib.cm as cm"
   ]
  },
  {
   "cell_type": "code",
   "execution_count": 38,
   "metadata": {
    "collapsed": false
   },
   "outputs": [
    {
     "ename": "ValueError",
     "evalue": "cannot reshape array of size 480 into shape (28,28,3)",
     "output_type": "error",
     "traceback": [
      "\u001b[0;31m---------------------------------------------------------------------------\u001b[0m",
      "\u001b[0;31mValueError\u001b[0m                                Traceback (most recent call last)",
      "\u001b[0;32m<ipython-input-38-5f32542a18fc>\u001b[0m in \u001b[0;36m<module>\u001b[0;34m()\u001b[0m\n\u001b[1;32m      2\u001b[0m \u001b[0;32mfor\u001b[0m \u001b[0midx\u001b[0m \u001b[0;32min\u001b[0m \u001b[0mrange\u001b[0m\u001b[0;34m(\u001b[0m\u001b[0;36m5\u001b[0m\u001b[0;34m)\u001b[0m\u001b[0;34m:\u001b[0m\u001b[0;34m\u001b[0m\u001b[0m\n\u001b[1;32m      3\u001b[0m     \u001b[0max\u001b[0m \u001b[0;34m=\u001b[0m \u001b[0maxarr\u001b[0m\u001b[0;34m[\u001b[0m\u001b[0mint\u001b[0m\u001b[0;34m(\u001b[0m\u001b[0midx\u001b[0m \u001b[0;34m/\u001b[0m \u001b[0;36m5\u001b[0m\u001b[0;34m)\u001b[0m\u001b[0;34m]\u001b[0m\u001b[0;34m[\u001b[0m\u001b[0midx\u001b[0m \u001b[0;34m%\u001b[0m \u001b[0;36m5\u001b[0m\u001b[0;34m]\u001b[0m\u001b[0;34m\u001b[0m\u001b[0m\n\u001b[0;32m----> 4\u001b[0;31m     \u001b[0max\u001b[0m\u001b[0;34m.\u001b[0m\u001b[0mimshow\u001b[0m\u001b[0;34m(\u001b[0m\u001b[0mweights\u001b[0m\u001b[0;34m[\u001b[0m\u001b[0;34m:\u001b[0m\u001b[0;34m,\u001b[0m \u001b[0midx\u001b[0m\u001b[0;34m]\u001b[0m\u001b[0;34m.\u001b[0m\u001b[0mreshape\u001b[0m\u001b[0;34m(\u001b[0m\u001b[0;34m-\u001b[0m\u001b[0;36m1\u001b[0m\u001b[0;34m,\u001b[0m\u001b[0;36m28\u001b[0m\u001b[0;34m,\u001b[0m \u001b[0;36m28\u001b[0m\u001b[0;34m,\u001b[0m\u001b[0;36m3\u001b[0m\u001b[0;34m)\u001b[0m\u001b[0;34m)\u001b[0m\u001b[0;34m\u001b[0m\u001b[0m\n\u001b[0m\u001b[1;32m      5\u001b[0m     \u001b[0max\u001b[0m\u001b[0;34m.\u001b[0m\u001b[0mset_title\u001b[0m\u001b[0;34m(\u001b[0m\u001b[0mstr\u001b[0m\u001b[0;34m(\u001b[0m\u001b[0midx\u001b[0m\u001b[0;34m)\u001b[0m\u001b[0;34m)\u001b[0m\u001b[0;34m\u001b[0m\u001b[0m\n\u001b[1;32m      6\u001b[0m     \u001b[0max\u001b[0m\u001b[0;34m.\u001b[0m\u001b[0maxes\u001b[0m\u001b[0;34m.\u001b[0m\u001b[0mget_xaxis\u001b[0m\u001b[0;34m(\u001b[0m\u001b[0;34m)\u001b[0m\u001b[0;34m.\u001b[0m\u001b[0mset_visible\u001b[0m\u001b[0;34m(\u001b[0m\u001b[0mFalse\u001b[0m\u001b[0;34m)\u001b[0m\u001b[0;34m\u001b[0m\u001b[0m\n",
      "\u001b[0;31mValueError\u001b[0m: cannot reshape array of size 480 into shape (28,28,3)"
     ]
    }
   ],
   "source": [
    "f, axarr = plt.subplots(2, 5)\n",
    "for idx in range(5):\n",
    "    ax = axarr[int(idx / 5)][idx % 5]\n",
    "    ax.imshow(weights[:, idx].reshape(28, 28,3))\n",
    "    ax.set_title(str(idx))\n",
    "    ax.axes.get_xaxis().set_visible(False)\n",
    "    ax.axes.get_yaxis().set_visible(False)"
   ]
  },
  {
   "cell_type": "code",
   "execution_count": null,
   "metadata": {
    "collapsed": true
   },
   "outputs": [],
   "source": [
    "plt.show()"
   ]
  },
  {
   "cell_type": "code",
   "execution_count": null,
   "metadata": {
    "collapsed": true
   },
   "outputs": [],
   "source": []
  }
 ],
 "metadata": {
  "kernelspec": {
   "display_name": "Python 2",
   "language": "python",
   "name": "python2"
  },
  "language_info": {
   "codemirror_mode": {
    "name": "ipython",
    "version": 2
   },
   "file_extension": ".py",
   "mimetype": "text/x-python",
   "name": "python",
   "nbconvert_exporter": "python",
   "pygments_lexer": "ipython2",
   "version": "2.7.13"
  }
 },
 "nbformat": 4,
 "nbformat_minor": 2
}
